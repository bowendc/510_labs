{
  "cells": [
    {
      "cell_type": "raw",
      "metadata": {},
      "source": [
        "---\n",
        "title: Installing and setting up R\n",
        "author: D. Bowen\n",
        "format: html\n",
        "editor: visual\n",
        "---"
      ],
      "id": "640adf85"
    },
    {
      "cell_type": "markdown",
      "metadata": {},
      "source": [
        "R is one of the most popular and powerful statistical software programs and programming languages. It allows users to input text commands, utilize pre-existing statistical and data analysis functions, create outstanding static and interactive graphics, and (relatively) easily design their own functions to meet their unique needs. Best of all, R is free and open source!\n",
        "\n",
        "## Installing R and RStudio\n",
        "\n",
        "You will need to download both R and RStudio. RStudio is a GUI (graphical user interface) for the underlying R program. R as a stand-alone program is clunky and unattractive; I think you'll find RStudio much more appealing to use. \n",
        "\n",
        "First, download and install R from here: [Windows](https://cran.rstudio.com/bin/windows/); [macOS](https://cran.rstudio.com/bin/macosx/); [Linux](https://cran.rstudio.com/bin/linux/). Second, once R is installed, download and install the R Studio Desktop GUI from Posit's [website](https://posit.co/download/rstudio-desktop/) (Posit is the company that makes R Studio). Be sure to choose the version that matches your operating system. If you have an older computer, you may need to install a 32-bit version of RStudio. Please feel free to reach out to me with any questions! \n",
        "\n",
        "## Installing and enabling `swirl()`\n",
        "\n",
        "`swirl()` is a user-generated programming tutorial for R. Like all user-generated programs, `swirl()` can downloaded and installed as a *packages*. Accessing packages is a two-step process. First you need to install the package. You can do that using the lower-right pane in RStudio and selecting the `Packages` tab. Click on the `Install` button, and then type `swirl` into the dialogue box when prompted to provide the package name.\n",
        "\n",
        "Alternatively, you can enter in the following command directly into the R Console (bottom-left pane):\n",
        "\n",
        "\n",
        "```{R}\n",
        "install.packages(\"swirl\", repos = \"https://cloud.r-project.org\") \n",
        "```\n",
        "\n",
        "Note that you must include quotation marks around the package name and the url in the above function arguments. \n",
        "\n",
        "Any package only needs to be installed once on R. However, every time you wish to use a package, you must load the package library for use. You can do that using the `library` function:\n",
        "\n",
        "\n",
        "```{R}\n",
        "library(swirl) # note that library() does not require quotes\n",
        "```\n",
        "\n",
        "\n",
        "Finally, we can start the tutorial by typing `swirl()` into the console and pressing Enter.\n",
        "\n",
        "Enjoy learning R programming!"
      ],
      "id": "3656ceec"
    }
  ],
  "metadata": {
    "kernelspec": {
      "name": "ir",
      "language": "R",
      "display_name": "R"
    }
  },
  "nbformat": 4,
  "nbformat_minor": 5
}