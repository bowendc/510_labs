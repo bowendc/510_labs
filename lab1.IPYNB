{
 "cells": [
  {
   "attachments": {},
   "cell_type": "markdown",
   "metadata": {},
   "source": [
    "## Taking a look around in R and RStudio\n",
    "\n",
    "Notice the various windows. \n",
    "\n",
    "1. The Console allows you to enter commands and view results\n",
    "2. The Environment window will show you the various objects R is keeping track of (vectors, datasets, lists, etc.)\n",
    "3. The bottom right window will show you files, figures/graphs, help files, and more. \n",
    "4. If you create/open a script, it will appear in the top-right by default. I encourage using an R project and R script for nearly all work. \n",
    "\n",
    "## Start an RStudio project\n",
    "\n",
    "Steps:\n",
    "\n",
    "- File &rarr; New Project\n",
    "- Choose a name for the project and folder location.^[I have a folder called \"labs\" located in the my main PUBG 510 folder. If you are primarily going to be using RStudio through the computer lab, then place this folder in your H:\\ network space]\n",
    "- Now start a new script using the sheet with a plus sign icon from the toolbar or using the file menu. On the right side of your window, it should show the name of your project.\n",
    "- RStudio projects make it so you don't need to worry about setting a working directory - it is defined in the project. Just make sure all files written to or read by R are in the same folder or in a nested subfolder. \n",
    "\n",
    "## Installing and loading packages\n",
    "\n",
    "R is open-source, and, frankly, kinda stinks on its own.^[This is called base R.] But there are many, many user-generated packages that improve R's functionality. We'll be using these packages all the time, especially a group of packages called [the tidyverse](https://www.tidyverse.org/packages/). \n",
    "\n",
    "You only need to install the package once and then you're good to go (until it needs updating). But you also need to load the package in every R session if you want to use those commands. "
   ]
  },
  {
   "cell_type": "code",
   "execution_count": null,
   "metadata": {
    "vscode": {
     "languageId": "r"
    }
   },
   "outputs": [],
   "source": [
    "# Install the required packages if not already installed \n",
    "# By the way, the hashtag/pound/octothorpe symbol will comment out a line in your script\n",
    "\n",
    " install.packages(c('tidyverse', 'haven'))\n",
    "\n",
    "# let's load your packages in the R session\n",
    "\n",
    "library(tidyverse)\n",
    "library(haven)\n"
   ]
  },
  {
   "attachments": {},
   "cell_type": "markdown",
   "metadata": {},
   "source": [
    "## Some basics\n",
    "\n",
    "R can handle a great diversity of *objects* including lists, variables, names, vectors, data frames, scalars, and plots. Let's create a vector of data using the *concatenate* function, which is the workforce for how R handles lists of pretty much any type. We can assign this list of values to an object with the assignment operator `<-`. You can read that as \"gets\". "
   ]
  },
  {
   "cell_type": "code",
   "execution_count": null,
   "metadata": {
    "vscode": {
     "languageId": "r"
    }
   },
   "outputs": [],
   "source": [
    "x <- c(1,2,3,4,5,6,7,8,9,10) \n",
    "\n",
    "# we can display our vector by typing the name of object or by using the print() function\n",
    "x"
   ]
  },
  {
   "cell_type": "markdown",
   "metadata": {},
   "source": [
    "Let's try a different way of creating the same vector:"
   ]
  },
  {
   "cell_type": "code",
   "execution_count": null,
   "metadata": {
    "vscode": {
     "languageId": "r"
    }
   },
   "outputs": [],
   "source": [
    "x2 <- 1:10\n",
    "\n",
    "print(x2)"
   ]
  },
  {
   "cell_type": "markdown",
   "metadata": {},
   "source": [
    "We can remove an object with the `rm()` function."
   ]
  },
  {
   "cell_type": "code",
   "execution_count": null,
   "metadata": {
    "vscode": {
     "languageId": "r"
    }
   },
   "outputs": [],
   "source": [
    "rm(x2)"
   ]
  },
  {
   "cell_type": "markdown",
   "metadata": {},
   "source": [
    "## Functions\n",
    "\n",
    "R has many built-in **functions** that you can use to conduct analyses. Functions take some input, perform some calculation or transformtion, and produce some output. Functions will often take **arguments** that will let you control how the function works. Let's take a look at a few descriptive functions to analyze a vector of data."
   ]
  },
  {
   "cell_type": "code",
   "execution_count": null,
   "metadata": {
    "vscode": {
     "languageId": "r"
    }
   },
   "outputs": [],
   "source": [
    "# these functions are simple and self-explanatory\n",
    "mean(x) \n",
    "median(x)\n",
    "sd(x)\n",
    "range(x)"
   ]
  },
  {
   "cell_type": "markdown",
   "metadata": {},
   "source": [
    "In R, we can easily store any output from a function by assigned it to an object using the assignment operator `<-`."
   ]
  },
  {
   "cell_type": "code",
   "execution_count": null,
   "metadata": {
    "vscode": {
     "languageId": "r"
    }
   },
   "outputs": [],
   "source": [
    "# let's name the mean of x and save it for the future as x.mean\n",
    "x.mean <- mean(x)\n",
    "\n",
    "x.mean\n",
    "\n",
    "# we can call it up any time we want now that we have stored the value.\n",
    "# let's do a few calculations using the stored mean:\n",
    "\n",
    "53 + x.mean\n",
    "x.mean^3\n",
    "\n",
    "# we can also use our stored result to perform calculations on a vector of data\n",
    "y <- x - x.mean\n",
    "\n",
    "y\n",
    "mean(y)"
   ]
  },
  {
   "attachments": {},
   "cell_type": "markdown",
   "metadata": {},
   "source": [
    "## Opening datasets\n",
    "\n",
    "R has various formats for datasets, typically called *data frames*. You can have multiple data frames (as well as other objects) loaded in R. Most commands will ask you to specify which data frame you're using if you want to access a particular variable inside a data frame. Let's pull a simple .csv file with a few variables from the U.S. Census' American Community Survey. The data use the 2021 5-year estimates (so from 2017-2021) and measure the variables at the county level.\n",
    "\n",
    "We can use the *read_csv()* function from the **tidyverse** package to download the dataset directly from a website and ingest into R:"
   ]
  },
  {
   "cell_type": "code",
   "execution_count": null,
   "metadata": {
    "vscode": {
     "languageId": "r"
    }
   },
   "outputs": [],
   "source": [
    "nj.counties <- read_csv(\"https://raw.githubusercontent.com/bowendc/510_labs/main/nj_poverty.csv\")  "
   ]
  },
  {
   "attachments": {},
   "cell_type": "markdown",
   "metadata": {},
   "source": [
    "## Using the pipe (|>)\n",
    "\n",
    "The pipe operator allows users to pass objects onto multiple functions without creating new variables or nesting functions. The original pipe is built in to the **tidyverse** packages (%>%), and you'll see many example codes online using this pipe. It's great. However, starting in R version 4.1, base R includes a new pipe operator that will work throughout everything in R (|>). Let's look at the example below using **tidyverse**'s *summarize* function, which aggregates data in the ways specfied in the command. In this case, we're summarizing two variables (two separate measures of member ideology, coded so that more extreme ideology is higher) in the ABH.data dataset by asking R to calculate their means. \n"
   ]
  },
  {
   "cell_type": "code",
   "execution_count": null,
   "metadata": {
    "vscode": {
     "languageId": "r"
    }
   },
   "outputs": [],
   "source": [
    "nj.counties |> summarize(mean.pop = mean(totalpop, na.rm = TRUE), \n",
    "                         mean.inc = mean(medincome, na.rm = TRUE))"
   ]
  },
  {
   "attachments": {},
   "cell_type": "markdown",
   "metadata": {},
   "source": [
    "If we didn't want to use the **tidyverse** syntax, we could also get the same results using base R and the `$` operator: "
   ]
  },
  {
   "cell_type": "code",
   "execution_count": null,
   "metadata": {
    "vscode": {
     "languageId": "r"
    }
   },
   "outputs": [],
   "source": [
    "# notice that we need to specify the data frame first, then the $, then the varible\n",
    "mean(nj.counties$totalpop)\n",
    "mean(nj.counties$medincome)"
   ]
  },
  {
   "cell_type": "markdown",
   "metadata": {},
   "source": [
    "We can use our new pipe operator to do a little recoding of variables in our dataset. Let's create a variable called `region` that will denote whether the county is in North, Central, or South Jersey. We can use the `GEOID` variable from the Census to identify each county. "
   ]
  },
  {
   "cell_type": "code",
   "execution_count": null,
   "metadata": {
    "vscode": {
     "languageId": "r"
    }
   },
   "outputs": [],
   "source": [
    "nj.counties.recode <- nj.counties |> mutate(region = case_when(\n",
    "                            GEOID == 34037 | GEOID == 34041 | GEOID == 34031 | \n",
    "                            GEOID == 34039 | GEOID == 34003 | GEOID == 34027 | \n",
    "                            GEOID == 34013 | GEOID == 34017 ~ \"north jersey\",\n",
    "                            GEOID == 34019 | GEOID == 34021 | \n",
    "                            GEOID == 34023 | GEOID == 34035 ~ \"central jersey\", \n",
    "                            TRUE ~ \"south jersey\")                                   # TRUE assigns every unit not already assigned\n",
    "                                            )\n",
    "\n",
    "table(nj.counties.recode$region)  # table() is a simple function for viewing the number of units with each value of a variable"
   ]
  },
  {
   "attachments": {},
   "cell_type": "markdown",
   "metadata": {},
   "source": [
    "## **filter** and **group_by**\n",
    "\n",
    "These functions are also part of the **tidyverse**. *filter()* allows us to, well, filter our observations based on some condition or a list of conditions. In the code below, we select just those counties in North Jersey. \n",
    "\n",
    "The *group_by()* function allows you to aggregate your data by grouping variables. In the code below, we group the data by region in NJ prior to calculating the means. "
   ]
  },
  {
   "cell_type": "code",
   "execution_count": null,
   "metadata": {
    "vscode": {
     "languageId": "r"
    }
   },
   "outputs": [],
   "source": [
    "nj.counties.recode |> filter(region==\"north jersey\") |>\n",
    "                            summarize(min_inc = min(medincome))\n",
    "\n",
    "nj.counties.recode |> group_by(region) |> \n",
    "                            summarize(mean_pop = mean(totalpop, na.rm = TRUE), \n",
    "                                       mean_inc = mean(medincome, na.rm = TRUE))"
   ]
  },
  {
   "attachments": {},
   "cell_type": "markdown",
   "metadata": {},
   "source": [
    "The pipe first passes the data to be filtered, then passes the filtered dataset to be summarized in the first functions. In the second, we use the pipe to pass the data frame to be grouped, and then the grouped and final data to be summarized. If you want to insert the pipe using a keyboard shortcut in RStudio, you can use <kbd>ctrl</kbd> + <kbd>shift</kbd> + <kbd>m</kbd>. Note that the shortcut uses the **tidyverse** pipe by default, but you can change it to the base R |> pipe in the settings. Check the \"Use native pipe operator, |> (requires $ 4.1+) box in Tools &rarr; Global Options &rarr; Code menu window."
   ]
  }
 ],
 "metadata": {
  "kernelspec": {
   "display_name": "R",
   "language": "R",
   "name": "ir"
  },
  "language_info": {
   "codemirror_mode": "r",
   "file_extension": ".r",
   "mimetype": "text/x-r-source",
   "name": "R",
   "pygments_lexer": "r",
   "version": "4.2.0"
  },
  "orig_nbformat": 4
 },
 "nbformat": 4,
 "nbformat_minor": 2
}
