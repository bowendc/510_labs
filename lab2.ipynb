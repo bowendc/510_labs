{
 "cells": [
  {
   "attachments": {},
   "cell_type": "markdown",
   "metadata": {},
   "source": [
    "## Describing Variables Using Univariate Statistics and Graphs\n",
    "\n",
    "We have already covered many simple functions to calculate simple statistics (quantities of interest calculated from your data). You can use `mean()`, `sd()`, `median()`, `min()`, `max()`, `range()`. You could also use `var()` to calculate the variance. Each of these functions can be used in the base R syntax or in **tidyverse* by piping in the data and then combining with `summarize`: `df |> summarize(some_name = mean(x))`.\n",
    "\n",
    "We can also create simple tables of these univariate descriptive statistics. Before we do that, let's get our required packages, download our data, and do some pre-processing of the data."
   ]
  },
  {
   "cell_type": "code",
   "execution_count": null,
   "metadata": {
    "vscode": {
     "languageId": "r"
    }
   },
   "outputs": [],
   "source": [
    "# Install the required packages if not already installed \n",
    "# By the way, the hashtag/pound/octothorpe symbol will comment out a line in your script\n",
    "\n",
    " install.packages(c('tidyverse', 'vtable'))\n",
    "\n",
    "# let's load your packages in the R session\n",
    "\n",
    "library(tidyverse)\n",
    "library(vtable)"
   ]
  },
  {
   "cell_type": "markdown",
   "metadata": {},
   "source": [
    "Now let's load our dataset. You can pull it directly from my GitHub repository using the url and the `read_csv()` function from **tidyverse**. The dataset comes from the NJ Department of Education, and shows the Adjusted 4-Year Cohort Graduation Rate by various populations of students. ([Source](https://www.nj.gov/education/schoolperformance/grad/ACGR.shtml)). These data are from 2022. "
   ]
  },
  {
   "cell_type": "code",
   "execution_count": null,
   "metadata": {
    "vscode": {
     "languageId": "r"
    }
   },
   "outputs": [],
   "source": [
    "# The `name_repair = make.names` argument replaces the spaces in the column headers with periods, which will make our lives easier\n",
    "\n",
    "nj.grad <- read_csv(\"https://raw.githubusercontent.com/bowendc/510_labs/main/nj_schools_grad_rate.csv\", name_repair = make.names)  \n",
    "\n",
    "# take a look at your data frame using view() or by clicking on\n",
    "# the table icon in the Environment window next to the data frame.\n",
    "\n",
    "view(nj.grad)"
   ]
  },
  {
   "cell_type": "markdown",
   "metadata": {},
   "source": [
    "We need to process these data a bit. There are a couple of weird issues we need to address. First, the data have been ingested with missing values - variables have both \"N\" and \"*\" included here, but R isn't using the standard NA missing values code. I suspect it is reading the variables in as a \"character\" or \"string\" data (text), rather than as a \"numeric\" variable. Let's check quickly:"
   ]
  },
  {
   "cell_type": "code",
   "execution_count": null,
   "metadata": {
    "vscode": {
     "languageId": "r"
    }
   },
   "outputs": [],
   "source": [
    "class(nj.grad$Cohort.Count)"
   ]
  },
  {
   "cell_type": "markdown",
   "metadata": {},
   "source": [
    "Yup - it's a character variable. We can convert this variable (and any other that we want) to numeric using the `as_numeric()` function. This function will force any non-numeric entry to be coded as NA."
   ]
  },
  {
   "cell_type": "code",
   "execution_count": null,
   "metadata": {
    "vscode": {
     "languageId": "r"
    }
   },
   "outputs": [],
   "source": [
    "nj.grad <- nj.grad |> mutate(Graduation.Rate.Num = as.numeric(Graduation.Rate), # here we write over our current nj.grad data frame\n",
    "                             Cohort.Count.Num = as.numeric(Cohort.Count))       # and add two new variables.\n",
    "\n",
    "# let's check to make sure it worked. We're not assigning this, just printing it:\n",
    "nj.grad |> select(Graduation.Rate, Graduation.Rate.Num,\n",
    "                  Cohort.Count, Cohort.Count.Num) |>\n",
    "              slice(1:20)"
   ]
  },
  {
   "cell_type": "markdown",
   "metadata": {},
   "source": [
    "Good! Now on to the second issue. The structure of the data is odd here. What is the **unit of analysis**? For most cases, we will probably rather have the student groups representing *columns* rather than *rows*. To do that we need to **reshape** the data from a `long` format to a `wide` format. We can do that with `pivot_wider()`."
   ]
  },
  {
   "cell_type": "code",
   "execution_count": null,
   "metadata": {
    "vscode": {
     "languageId": "r"
    }
   },
   "outputs": [],
   "source": [
    "nj.grad.wide <- nj.grad |> pivot_wider(names_from = Student.Group,  # these values will become new variable headers\n",
    "                                       values_from = c(Graduation.Rate, # these are the data values to populate the new variables\n",
    "                                                       Cohort.Count,\n",
    "                                                       Graduated,\n",
    "                                                       Graduation.Rate.Num,\n",
    "                                                       Cohort.Count.Num),\n",
    "                                        names_repair = make.names)   # again, we can fix those spaces in variable names\n",
    "\n",
    "head(nj.grad.wide)"
   ]
  },
  {
   "attachments": {},
   "cell_type": "markdown",
   "metadata": {},
   "source": [
    "## Creating a table of descriptive statistics \n",
    "\n",
    "To create a table of descriptive statistics, we will use the *sumtable()* function of the **vtable** package. This is a clean, well-formatted table output that will give us a nice set of options for exporting, viewing, or saving the table. The *select()* function is part of **tidyverse** and will allow us to filter out some columns of data if we want. You could do this directly in the *sumtable()* function using the *vars* argument. Check out the *out* argument from the help file to see some other options. I'm using *out = \"return\"* so that the table will show up as output in the console, but the default settings will open up an html version in your web browser. You can also export to a csv file. "
   ]
  },
  {
   "cell_type": "code",
   "execution_count": null,
   "metadata": {
    "vscode": {
     "languageId": "r"
    }
   },
   "outputs": [],
   "source": [
    "nj.grad.wide |> \n",
    "    select(starts_with(c(\"Graduation.Rate.Num\", \"Cohort.Count.Num\"))) |>    # the \"|\" means \"or\". Notice also what the function starts_with() does here\n",
    "    sumtable(out = \"return\")       "
   ]
  },
  {
   "cell_type": "markdown",
   "metadata": {},
   "source": [
    "## Making Graphs with ggplot2\n",
    "\n",
    "**ggplot2** is an outstanding, albeit confusing, graphic syntax for R, bundled as part of the **tidyverse**. Let's explore some of the basic plot types and `ggplot()` syntax. To make our lives easier, let's process the data once more to remove District and State-wide graduation rates, leaving us only the high school data."
   ]
  },
  {
   "cell_type": "code",
   "execution_count": null,
   "metadata": {
    "vscode": {
     "languageId": "r"
    }
   },
   "outputs": [],
   "source": [
    "hs <- nj.grad.wide |> filter(School.Name != \"District\" & County.Name!=\"State\") # != means \"does not equal\". & means \"and\""
   ]
  },
  {
   "cell_type": "markdown",
   "metadata": {},
   "source": [
    "### Histograms and density plots\n",
    "\n",
    "Histograms are graphs that present the distribution of a variable measured at the continuous or interval level by grouping the values into \"bins\". "
   ]
  },
  {
   "cell_type": "code",
   "execution_count": null,
   "metadata": {
    "vscode": {
     "languageId": "r"
    }
   },
   "outputs": [],
   "source": [
    "# in base R\n",
    "hist(hs$Graduation.Rate.Num_Total)\n",
    "\n",
    "# in ggplot\n",
    "\n",
    "ggplot(data = hs, mapping = aes(x = Graduation.Rate.Num_Total)) +\n",
    "    geom_histogram(binwidth = 10)                       # try changing the binwidht"
   ]
  },
  {
   "cell_type": "markdown",
   "metadata": {},
   "source": [
    "Now, let's make it look better by changing the y-axis to a percentage, fiddling with the theme and colors, and adding labels: "
   ]
  },
  {
   "cell_type": "code",
   "execution_count": null,
   "metadata": {
    "vscode": {
     "languageId": "r"
    }
   },
   "outputs": [],
   "source": [
    "ggplot(hs, mapping = aes(x = Graduation.Rate.Num_Total)) +\n",
    "  geom_histogram(aes(y =100*( ..count.. / sum(..count..))), binwidth = 5,\n",
    "                  fill = \"navy\") +\n",
    "    labs(title = \"2022 Adjusted 4-Year Graduation Rates, NJ High Schools\",\n",
    "       x = \"Graduation Rate\",\n",
    "       y = \"Percentage\") +\n",
    "  theme_minimal()"
   ]
  },
  {
   "cell_type": "markdown",
   "metadata": {},
   "source": [
    "Better! What if we wanted to compare the distributions of two variables? Let's add another `geom_histogram` plot to this graph. To improve visability, let's change the opacity of the colors using the argument `alpha`."
   ]
  },
  {
   "cell_type": "code",
   "execution_count": null,
   "metadata": {
    "vscode": {
     "languageId": "r"
    }
   },
   "outputs": [],
   "source": [
    "ggplot(hs, mapping = aes(x = Graduation.Rate.Num_Total)) +\n",
    "  geom_histogram(aes(y =100*( ..count.. / sum(..count..))), binwidth = 5,\n",
    "                  fill = \"navy\", alpha = .3) +\n",
    "  geom_histogram(aes(x = Graduation.Rate.Num_Economically.Disadvantaged.Students, \n",
    "                     y = 100*( ..count.. / sum(..count..))), binwidth = 5,\n",
    "                 fill = \"gold\", alpha = .3) +\n",
    "    labs(title = \"2022 Graduation Rates, NJ High Schools\",\n",
    "       x = \"Graduation Rate\",\n",
    "       y = \"Percentage\") +\n",
    "  theme_minimal()"
   ]
  },
  {
   "cell_type": "markdown",
   "metadata": {},
   "source": [
    "We can present the same graph as smoothed distributions using `geom_density` instead of `geom_histogram`:"
   ]
  },
  {
   "cell_type": "code",
   "execution_count": null,
   "metadata": {
    "vscode": {
     "languageId": "r"
    }
   },
   "outputs": [],
   "source": [
    "ggplot(hs, mapping = aes(x = Graduation.Rate.Num_Total)) +\n",
    "  geom_density(aes(y =100*( ..count.. / sum(..count..))),\n",
    "                  fill = \"navy\", alpha = .3) +\n",
    "  geom_density(aes(x = Graduation.Rate.Num_Economically.Disadvantaged.Students, \n",
    "                     y = 100*( ..count.. / sum(..count..))),\n",
    "                 fill = \"gold\", alpha = .3) +\n",
    "    labs(title = \"2022 Graduation Rates, NJ High Schools\",\n",
    "       x = \"Graduation Rate\",\n",
    "       y = \"Percentage\") +\n",
    "  theme_minimal()"
   ]
  },
  {
   "cell_type": "markdown",
   "metadata": {},
   "source": [
    "We could even add text and other lines if we want."
   ]
  },
  {
   "cell_type": "code",
   "execution_count": null,
   "metadata": {
    "vscode": {
     "languageId": "r"
    }
   },
   "outputs": [],
   "source": [
    "# store means and medians\n",
    "mean.total <- mean(hs$Graduation.Rate.Num_Total, na.rm = TRUE)\n",
    "med.total <- median(hs$Graduation.Rate.Num_Total, na.rm = TRUE)\n",
    "mean.eds <- mean(hs$Graduation.Rate.Num_Economically.Disadvantaged.Students, na.rm = TRUE)\n",
    "med.eds <- median(hs$Graduation.Rate.Num_Economically.Disadvantaged.Students, na.rm = TRUE)\n",
    "\n",
    "ggplot(hs, mapping = aes(x = Graduation.Rate.Num_Total)) +\n",
    "  geom_density(aes(y =100*( ..count.. / sum(..count..))),\n",
    "                  fill = \"navy\", alpha = .3) +\n",
    "  geom_density(aes(x = Graduation.Rate.Num_Economically.Disadvantaged.Students, \n",
    "                     y = 100*( ..count.. / sum(..count..))),\n",
    "                 fill = \"gold\", alpha = .3) +\n",
    "  geom_vline(aes(xintercept = mean.total), color = \"navy\") +\n",
    "  geom_vline(aes(xintercept = mean.eds), color = \"gold\") +\n",
    "  geom_vline(aes(xintercept = med.total), color = \"navy\", linetype = \"dashed\") +\n",
    "  geom_vline(aes(xintercept = med.eds), color = \"gold\", linetype = \"dashed\") +\n",
    "    labs(title = \"2022 Graduation Rates, NJ High Schools\",\n",
    "       x = \"Graduation Rate\",\n",
    "       y = \"Percentage\") +\n",
    "  theme_minimal()\n"
   ]
  },
  {
   "cell_type": "markdown",
   "metadata": {},
   "source": [
    "### Bar Graphs\n",
    "\n",
    "Bar graphs are distributional graphs, like histograms, but for discrete (ordinal or categorical/nominal) data. "
   ]
  },
  {
   "cell_type": "code",
   "execution_count": null,
   "metadata": {
    "vscode": {
     "languageId": "r"
    }
   },
   "outputs": [],
   "source": [
    "ggplot(data = hs, mapping = aes(x = County.Name)) +\n",
    "    geom_bar()\n",
    "\n",
    "# sorting the bars by count of high schools in the each county\n",
    "hs |> count(County.Name) |>\n",
    "    ggplot(mapping = aes(x = reorder(County.Name, n), y = n)) +\n",
    "        geom_bar(stat = 'identity') "
   ]
  },
  {
   "cell_type": "markdown",
   "metadata": {},
   "source": [
    "### Boxplots\n",
    "\n",
    "Boxplots show a bunch of information: the median, the IQR, and outliers are all presented simply. Boxplots are also handy plots for graphing distributions by a grouping variable. Let's take a look at the graduation rate for Black students by county using `geom_boxplot()`."
   ]
  },
  {
   "cell_type": "code",
   "execution_count": null,
   "metadata": {
    "vscode": {
     "languageId": "r"
    }
   },
   "outputs": [],
   "source": [
    "ggplot(hs, mapping = aes(y = Graduation.Rate.Num_Black.or.African.American,\n",
    "                         x = County.Name)) + \n",
    "  geom_boxplot()\n",
    "\n",
    "# try switching the x and y axes:\n",
    "\n",
    "ggplot(hs, mapping = aes(x = Graduation.Rate.Num_Black.or.African.American,\n",
    "                         y = County.Name)) + \n",
    "  geom_boxplot()"
   ]
  },
  {
   "cell_type": "markdown",
   "metadata": {},
   "source": [
    "It's good, but we can make it even better! Let's add several changes:\n",
    "\n",
    "1. show the actual values of the graduation rates by high school using `geom_jitter()`, which adds a bit of random noise to the dots;\n",
    "2. change the shape of the points and weight the size by the number of Black students in the school;\n",
    "3. make the points fairly transparent;\n",
    "4. change the theme;\n",
    "5. reorder the counties by median graduation rate in the county"
   ]
  },
  {
   "cell_type": "code",
   "execution_count": null,
   "metadata": {
    "vscode": {
     "languageId": "r"
    }
   },
   "outputs": [],
   "source": [
    "hs$County.name <- as_factor(hs$County.Name) # county needs to be read as a \"factor\" variable in R for fct_reorder to work\n",
    "\n",
    "ggplot(hs, mapping = aes(x = Graduation.Rate.Num_Black.or.African.American,\n",
    "                         y = fct_reorder(County.Name,Graduation.Rate.Num_Black.or.African.American, median))) + \n",
    "        geom_boxplot(outlier.shape = NA) + \n",
    "        geom_jitter(data = hs, show.legend = FALSE, \n",
    "                    aes(width = 0.01, \n",
    "                        alpha = .05, \n",
    "                        shape = \"bullet\",\n",
    "                        size = Cohort.Count.Num_Black.or.African.American,)) + \n",
    "        theme_minimal()"
   ]
  }
 ],
 "metadata": {
  "kernelspec": {
   "display_name": "R",
   "language": "R",
   "name": "ir"
  },
  "language_info": {
   "codemirror_mode": "r",
   "file_extension": ".r",
   "mimetype": "text/x-r-source",
   "name": "R",
   "pygments_lexer": "r",
   "version": "4.2.0"
  },
  "orig_nbformat": 4
 },
 "nbformat": 4,
 "nbformat_minor": 2
}
