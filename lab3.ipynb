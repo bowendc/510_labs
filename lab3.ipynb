{
 "cells": [
  {
   "attachments": {},
   "cell_type": "markdown",
   "metadata": {},
   "source": [
    "## Bivariate Comparisons\n",
    "\n",
    "This lab will describe how to make appropriate bivariate comparisons between variables measured at different levels of measurement. Remember, the main idea is to compare what happens to the outcome variable (either the distribution of its units across its values or some other relevant statistic) as the values of the predictor variable vary. \n",
    "\n",
    "For this lab, we will use the 2020 American National Election Study. The unit of analysis is the survey respondent, and the level of analysis is the individual. Let's install our necessary packages, along with the `devtools` package that will let us access the `anesr` set of functions to grab the data."
   ]
  },
  {
   "cell_type": "code",
   "execution_count": null,
   "metadata": {
    "vscode": {
     "languageId": "r"
    }
   },
   "outputs": [],
   "source": [
    "# Install the required packages if not already installed \n",
    "\n",
    " install.packages(c('tidyverse', 'devtools', 'haven', 'knitr'))\n",
    "\n",
    "# let's load your packages in the R session\n",
    "\n",
    "library(tidyverse)\n",
    "library(devtools)\n",
    "library(haven)\n",
    "library(knitr)\n",
    "\n",
    "# install a user-generated package from github (need to load devtools())\n",
    "\n",
    "# user-generated package to load American National Election Study survey data\n",
    " install_github(\"jamesmartherus/anesr\") \n",
    "\n",
    "library(anesr)"
   ]
  },
  {
   "cell_type": "markdown",
   "metadata": {},
   "source": [
    "Now we can load our data using the `data()` function. Because we loaded the `anesr` package, the ANES datasets can be read just like they're sitting in our working directory. "
   ]
  },
  {
   "cell_type": "code",
   "execution_count": null,
   "metadata": {
    "vscode": {
     "languageId": "r"
    }
   },
   "outputs": [],
   "source": [
    "# This is the 2020 election survey of the standard ANES time series survey. \n",
    "data(timeseries_2020)"
   ]
  },
  {
   "cell_type": "markdown",
   "metadata": {},
   "source": [
    "Sometimes it is helpful to download a file, save it to your computer, and use it in your R script. You can download a file using `download.file` (clever naming, huh?). The code below saves a url and then uses `download.file` to get the .R file stored at that url and saves it with a different name into your working directory. Then, the code runs the R script."
   ]
  },
  {
   "cell_type": "code",
   "execution_count": null,
   "metadata": {
    "vscode": {
     "languageId": "r"
    }
   },
   "outputs": [],
   "source": [
    "# save the url for easy access. The paste0() function lets you combine\n",
    "# strings together. paste with a 0 at the end will combine\n",
    "# without any separator character between the strings of text\n",
    "\n",
    "myurl = paste0(\"https://raw.githubusercontent.com/bowendc/510_labs/main/\",\"lab4_recodes.R\")\n",
    "\n",
    "download.file(url = myurl, \"lab4recodes.R\" ) # lab4recodes.R is the name we're giving to the file \n",
    "\n",
    "source(\"lab4recodes.R\") # runs the .R script recoding ANES variables\n",
    "\n",
    "# one more recode: \n",
    "\n",
    "anes20 <- anes20 |> mutate(welfare_ord = ordered(welfare, labels = welfare_lbl), #\n",
    "                           sex_fct = factor(sex, labels = sex_lbl))"
   ]
  },
  {
   "cell_type": "markdown",
   "metadata": {},
   "source": [
    "### Crosstabs\n",
    "\n",
    "In my opinion, crosstabs in R are more difficult than they need to be. Perhaps because of the difficulty of creating crosstabs in base R, there many packages offering additional functionality. I haven't found any that I really love. Because of this, we will create crosstabs several different ways here. \n",
    "\n",
    "First, let's see what is available in base R. "
   ]
  },
  {
   "cell_type": "code",
   "execution_count": null,
   "metadata": {
    "vscode": {
     "languageId": "r"
    }
   },
   "outputs": [],
   "source": [
    "# table will display a one-, two-, or even three-way frequency distribution (just the frequencies, not percentages).\n",
    "# outcome goes first, predictor second\n",
    "table(anes20$welfare_ord, anes20$sex_fct)\n",
    "\n",
    "# wrap in prop.table( , 2) to get column proportions\n",
    "prop.table(table(anes20$welfare_ord, anes20$sex_fct), 2)\n",
    "\n",
    "# store for later use:\n",
    "ct1 <- table(anes20$welfare_ord, anes20$sex_fct)\n",
    "\n",
    "# call back up to create rounded percentages using round() function\n",
    "round(prop.table(ct1, 2), digits = 3) * 100\n"
   ]
  },
  {
   "cell_type": "markdown",
   "metadata": {},
   "source": [
    "This isn't bad, but we could also combine the table with the `kable()` function to add a caption and automate the rounding. If we were writing an interactive document using `knitr` or creating a table for a website with html, then the `kable()` function has some nice additional features as well. "
   ]
  },
  {
   "cell_type": "code",
   "execution_count": null,
   "metadata": {
    "vscode": {
     "languageId": "r"
    }
   },
   "outputs": [],
   "source": [
    "# uncomment to try for yourself on your computer\n",
    "\n",
    " kable(prop.table(ct1, 2)*100, align = \"lccc\", \n",
    "      format = \"simple\", \n",
    "      digits = 2, \n",
    "      caption = \"Opinions about welfare spending by sex of respondent, 2020 ANES\")"
   ]
  },
  {
   "cell_type": "markdown",
   "metadata": {},
   "source": [
    "Now let's use `tidyverse` to accomplish something similar."
   ]
  },
  {
   "cell_type": "code",
   "execution_count": null,
   "metadata": {
    "vscode": {
     "languageId": "r"
    }
   },
   "outputs": [],
   "source": [
    "ct2 <- anes20 |> \n",
    "        filter(!is.na(welfare_ord) & !is.na(sex_fct)) |>\n",
    "                group_by(welfare_ord, sex_fct) |> \n",
    "                summarize(n = n()) |>\n",
    "                pivot_wider(names_from = sex_fct,\n",
    "                              values_from = n) |>\n",
    "                ungroup() |>\n",
    "                mutate(`Men` = prop.table(`Men`),\n",
    "                       `Women`= prop.table(`Women`))\n",
    "ct2\n",
    "\n",
    "# ct2 is stored as a tibble data frame. \n",
    "# we can export to a csv file using write.csv()\n",
    "\n",
    "write.csv(ct2, file = \"lab4.ct2.csv\")"
   ]
  },
  {
   "attachments": {},
   "cell_type": "markdown",
   "metadata": {},
   "source": [
    "### Mean comparisons \n",
    "\n",
    "Mean comparisons (or other some other statistic), can be created using `tidyverse` functions. Let's examine the thermometer ratings of the major political parties in the U.S. by gender.  "
   ]
  },
  {
   "cell_type": "code",
   "execution_count": null,
   "metadata": {
    "vscode": {
     "languageId": "r"
    }
   },
   "outputs": [],
   "source": [
    "mc <- anes20 |> filter(!is.na(sex_fct)) |> \n",
    "                group_by(sex_fct) |> \n",
    "                summarize(Democratic = mean(dem_therm, na.rm = TRUE),\n",
    "                          Republican = mean(rep_therm, na.rm = TRUE))\n",
    "mc\n",
    "\n",
    "mc |> \n",
    "  kable(align=\"lcc\", \n",
    "        col.names = c(\"\", \"Democratic\", \"Republican\"), \n",
    "        digits = 2, \n",
    "        format = \"simple\", \n",
    "        caption = \"Mean thermometer ratings of political parties by sex of respondent, 2020 ANES\") "
   ]
  },
  {
   "cell_type": "markdown",
   "metadata": {},
   "source": [
    "## Scatterplots and trend lines\n",
    "\n",
    "**ggplot2** can be used to create scatterplots. By adding additional layers to the plot, we can overlay other graph types (like loess plots, lines of best fit, and more)."
   ]
  },
  {
   "cell_type": "code",
   "execution_count": null,
   "metadata": {
    "vscode": {
     "languageId": "r"
    }
   },
   "outputs": [],
   "source": [
    "hs <- nj.grad.wide |> filter(School.Name != \"District\" & County.Name!=\"State\") # != means \"does not equal\". & means \"and\""
   ]
  },
  {
   "cell_type": "markdown",
   "metadata": {},
   "source": [
    "### Histograms and density plots\n",
    "\n",
    "Histograms are graphs that present the distribution of a variable measured at the continuous or interval level by grouping the values into \"bins\". "
   ]
  },
  {
   "cell_type": "code",
   "execution_count": null,
   "metadata": {
    "vscode": {
     "languageId": "r"
    }
   },
   "outputs": [],
   "source": [
    "# assign graph to `plot` for easy access later \n",
    "plot <- ggplot(data = anes20, mapping = aes(x = age, y = trans_therm)) + \n",
    "            geom_jitter(size = 2, \n",
    "                        width= 2, \n",
    "                        height = 2, \n",
    "                        fill = \"black\", \n",
    "                        alpha = .03, \n",
    "                        stroke = 0 ) +\n",
    "            labs(y = \"Thermometer Rating: Transgender People\",\n",
    "                x = \"Age\") +\n",
    "            theme_minimal()\n",
    "\n",
    "plot"
   ]
  },
  {
   "cell_type": "markdown",
   "metadata": {},
   "source": [
    "Now, let's add a loess line using `geom_smooth()`"
   ]
  },
  {
   "cell_type": "code",
   "execution_count": null,
   "metadata": {
    "vscode": {
     "languageId": "r"
    }
   },
   "outputs": [],
   "source": [
    "plot + geom_smooth(method = \"loess\", se = FALSE)"
   ]
  },
  {
   "cell_type": "markdown",
   "metadata": {},
   "source": [
    "And a line of best fit!"
   ]
  },
  {
   "cell_type": "code",
   "execution_count": null,
   "metadata": {
    "vscode": {
     "languageId": "r"
    }
   },
   "outputs": [],
   "source": [
    "plot2 <- plot + geom_smooth(method = \"loess\", se = FALSE) +\n",
    "                geom_smooth(method = \"lm\", se = FALSE,color = \"grey15\", linetype=\"longdash\", linewidth = 1) \n",
    "plot2"
   ]
  },
  {
   "cell_type": "markdown",
   "metadata": {},
   "source": [
    "Good! Now let's try recreating this graph accounting for party identification of the respondent using `facet_grid`."
   ]
  },
  {
   "cell_type": "code",
   "execution_count": null,
   "metadata": {
    "vscode": {
     "languageId": "r"
    }
   },
   "outputs": [],
   "source": [
    "plot2 + facet_grid(~pid3)"
   ]
  }
 ],
 "metadata": {
  "kernelspec": {
   "display_name": "R",
   "language": "R",
   "name": "ir"
  },
  "language_info": {
   "codemirror_mode": "r",
   "file_extension": ".r",
   "mimetype": "text/x-r-source",
   "name": "R",
   "pygments_lexer": "r",
   "version": "4.2.0"
  },
  "orig_nbformat": 4
 },
 "nbformat": 4,
 "nbformat_minor": 2
}
