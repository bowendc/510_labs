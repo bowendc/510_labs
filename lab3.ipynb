{
 "cells": [
  {
   "attachments": {},
   "cell_type": "markdown",
   "metadata": {},
   "source": [
    "## Bivariate Comparisons\n",
    "\n",
    "This lab will describe how to make appropriate bivariate comparisons between variables measured at different levels of measurement. Remember, the main idea is to compare what happens to the outcome variable (either the distribution of its units across its values or some other relevant statistic) as the values of the predictor variable vary. \n",
    "\n",
    "For this lab, we will use the 2020 American National Election Study. The unit of analysis is the survey respondent, and the level of analysis is the individual. Let's install our necessary packages, along with the `devtools` package that will let us access the `anesr` set of functions to grab the data."
   ]
  },
  {
   "cell_type": "code",
   "execution_count": null,
   "metadata": {
    "vscode": {
     "languageId": "r"
    }
   },
   "outputs": [],
   "source": [
    "# Install the required packages if not already installed \n",
    "\n",
    "install.packages('pacman')\n",
    "\n",
    "# we'll use devtools to install anesr, haven to load a stata dataset,\n",
    "#   and knitr for table formatting.\n",
    "pacman::p_load(tidyverse, devtools, haven, knitr, modelsummary)\n",
    "\n",
    "\n",
    "# user-generated package to load American National Election Study survey data\n",
    "# install_github(\"jamesmartherus/anesr\") \n",
    "\n",
    "library(anesr)"
   ]
  },
  {
   "cell_type": "markdown",
   "metadata": {},
   "source": [
    "Now we can load our data using the `data()` function. Because we loaded the `anesr` package, the ANES datasets can be read just like they're sitting in our working directory. "
   ]
  },
  {
   "cell_type": "code",
   "execution_count": null,
   "metadata": {
    "vscode": {
     "languageId": "r"
    }
   },
   "outputs": [],
   "source": [
    "# This is the 2020 election survey of the standard ANES time series survey. \n",
    "data(timeseries_2020)"
   ]
  },
  {
   "cell_type": "markdown",
   "metadata": {},
   "source": [
    "Sometimes it is helpful to download a file, save it to your computer, and use it in your R script. You can download a file using `download.file` (clever naming, huh?). The code below saves a url and then uses `download.file` to get the .R file stored at that url and saves it with a different name into your working directory. Then, the code runs the R script."
   ]
  },
  {
   "cell_type": "code",
   "execution_count": null,
   "metadata": {
    "vscode": {
     "languageId": "r"
    }
   },
   "outputs": [],
   "source": [
    "# save the url for easy access. The paste0() function lets you combine\n",
    "# strings together. paste with a 0 at the end will combine\n",
    "# without any separator character between the strings of text\n",
    "\n",
    "myurl = paste0(\"https://raw.githubusercontent.com/bowendc/510_labs/main/\",\"anes20_recodes.R\")\n",
    "\n",
    "download.file(url = myurl, \"anes20recodes.R\" ) # anes20recodes.R is the name we're giving to the file \n",
    "\n",
    "source(\"anes20recodes.R\") # runs the .R script recoding ANES variables\n",
    "\n",
    "# one more recode: \n",
    "\n",
    "anes20 <- anes20 |> mutate(welfare_ord = ordered(welfare, labels = welfare_lbl), #\n",
    "                           sex_fct = factor(sex, labels = sex_lbl))"
   ]
  },
  {
   "cell_type": "markdown",
   "metadata": {},
   "source": [
    "### Crosstabs\n",
    "\n",
    "In my opinion, crosstabs in R are more difficult than they need to be. Perhaps because of the difficulty of creating crosstabs in base R, there many packages offering additional functionality. I haven't found any that I really love. Because of this, we will create crosstabs several different ways here. \n",
    "\n",
    "First, let's see what is available in base R. "
   ]
  },
  {
   "cell_type": "code",
   "execution_count": null,
   "metadata": {
    "vscode": {
     "languageId": "r"
    }
   },
   "outputs": [],
   "source": [
    "# table will display a one-, two-, or even three-way frequency distribution (just the frequencies, not percentages).\n",
    "# outcome goes first, predictor second\n",
    "table(anes20$welfare_ord, anes20$sex_fct)\n",
    "\n",
    "# wrap in prop.table( , 2) to get column proportions\n",
    "prop.table(table(anes20$welfare_ord, anes20$sex_fct), 2)\n",
    "\n",
    "# store for later use:\n",
    "ct1 <- table(anes20$welfare_ord, anes20$sex_fct)\n",
    "\n",
    "# call back up to create rounded percentages using round() function\n",
    "round(prop.table(ct1, 2), digits = 3) * 100\n"
   ]
  },
  {
   "cell_type": "markdown",
   "metadata": {},
   "source": [
    "This isn't bad, but we could also combine the table with the `kable()` function to add a caption and automate the rounding. If we were writing an interactive document using `knitr` or creating a table for a website with html, then the `kable()` function has some nice additional features as well. "
   ]
  },
  {
   "cell_type": "code",
   "execution_count": null,
   "metadata": {
    "vscode": {
     "languageId": "r"
    }
   },
   "outputs": [],
   "source": [
    "# Kable is from the knitr package and can be used to \n",
    "# add tables directly into written reports in pdf or html format \n",
    "# for print or web publishing\n",
    "\n",
    " kable(prop.table(ct1, 2)*100, align = \"lccc\", \n",
    "      format = \"simple\", \n",
    "      digits = 2, \n",
    "      caption = \"Opinions about welfare spending by sex of respondent, 2020 ANES\")"
   ]
  },
  {
   "cell_type": "markdown",
   "metadata": {},
   "source": [
    "Now let's use `datasummary_crosstab` to accomplish something similar."
   ]
  },
  {
   "cell_type": "code",
   "execution_count": null,
   "metadata": {
    "vscode": {
     "languageId": "r"
    }
   },
   "outputs": [],
   "source": [
    "datasummary_crosstab(welfare_ord ~ sex_fct,\n",
    "               data = anes20,\n",
    "               statistic = 1 ~ 1 + Percent(\"col\"))\n",
    "\n",
    "# we can export to a csv file using the output argument\n",
    "\n",
    "datasummary_crosstab(welfare_ord ~ sex_fct,\n",
    "               data = anes20,\n",
    "               statistic = 1 ~ 1 + Percent(\"col\"),\n",
    "               output = \"lab4.ct2.csv\")\n"
   ]
  },
  {
   "attachments": {},
   "cell_type": "markdown",
   "metadata": {},
   "source": [
    "### Mean comparisons \n",
    "\n",
    "Mean comparisons (or other some other statistic), can be created using `tidyverse` functions. Let's examine the thermometer ratings of the major political parties in the U.S. by gender.  "
   ]
  },
  {
   "cell_type": "code",
   "execution_count": null,
   "metadata": {
    "vscode": {
     "languageId": "r"
    }
   },
   "outputs": [],
   "source": [
    "mc <- anes20 |> filter(!is.na(sex_fct)) |> \n",
    "                group_by(sex_fct) |> \n",
    "                summarize(Democratic = mean(dem_therm, na.rm = TRUE),\n",
    "                          Republican = mean(rep_therm, na.rm = TRUE))\n",
    "mc\n",
    "\n",
    "mc |> \n",
    "  kable(align=\"lcc\", \n",
    "        col.names = c(\"\", \"Democratic\", \"Republican\"), \n",
    "        digits = 2, \n",
    "        format = \"simple\", \n",
    "        caption = \"Mean thermometer ratings of political parties by sex of respondent, 2020 ANES\") "
   ]
  },
  {
   "cell_type": "markdown",
   "metadata": {},
   "source": [
    "What if we want to control for a third variable? Let's look at Republican Party thermometer rating by gender, controlling for age.\n",
    "\n",
    "First, we need to recode age into an ordinal variable. Here I just create it as a character variable so that we don't need to run another function to create the labels."
   ]
  },
  {
   "cell_type": "code",
   "execution_count": null,
   "metadata": {
    "vscode": {
     "languageId": "r"
    }
   },
   "outputs": [],
   "source": [
    "anes20 <- anes20 |> mutate(age.cat = case_when(\n",
    "                                age < 30 ~ 1,\n",
    "                                age >= 30 & age < 60 ~ 2,\n",
    "                                age>=60 ~ 3),\n",
    "                           age.cat = ordered(age.cat, labels = c(\"Young\", \n",
    "                                                                 \"Middle Aged\", \n",
    "                                                                 \"Old\"))\n",
    "                         )"
   ]
  },
  {
   "cell_type": "markdown",
   "metadata": {},
   "source": [
    "And now we can repeat the mean comparison test, this time grouping by sex and age."
   ]
  },
  {
   "cell_type": "code",
   "execution_count": null,
   "metadata": {
    "vscode": {
     "languageId": "r"
    }
   },
   "outputs": [],
   "source": [
    "mc2 <- anes20 |> filter(!is.na(sex_fct) & !is.na(age.cat)) |> \n",
    "                group_by(age.cat, sex_fct) |> \n",
    "                summarize(Republican = mean(rep_therm, na.rm = TRUE)) |>\n",
    "                pivot_wider(names_from = age.cat,\n",
    "                            values_from = Republican)\n",
    "s\n",
    "mc2\n",
    "\n",
    "mc2 |> \n",
    "  kable(align=\"lcc\", \n",
    "        col.names = c(\"\", \"Younger than 30\", \"30 to 60\", \"60 and Older\"),\n",
    "        digits = 2, \n",
    "        format = \"simple\", \n",
    "        caption = \"Mean thermometer ratings of Republican Party by sex and age group of respondent, 2020 ANES\") "
   ]
  },
  {
   "cell_type": "markdown",
   "metadata": {},
   "source": [
    "## Scatterplots and trend lines\n",
    "\n",
    "**ggplot2** can be used to create scatterplots. By adding additional layers to the plot, we can overlay other graph types (like loess plots, lines of best fit, and more)."
   ]
  },
  {
   "cell_type": "code",
   "execution_count": null,
   "metadata": {
    "vscode": {
     "languageId": "r"
    }
   },
   "outputs": [],
   "source": [
    "# assign graph to `plot` for easy access later \n",
    "plot <- ggplot(data = anes20, mapping = aes(x = age, y = trans_therm)) + \n",
    "            geom_jitter(size = 2, \n",
    "                        width= 2, \n",
    "                        height = 2, \n",
    "                        fill = \"black\", \n",
    "                        alpha = .03, \n",
    "                        stroke = 0 ) +\n",
    "            labs(y = \"Thermometer Rating: Transgender People\",\n",
    "                x = \"Age\") +\n",
    "            theme_minimal()\n",
    "\n",
    "plot"
   ]
  },
  {
   "cell_type": "markdown",
   "metadata": {},
   "source": [
    "Now, let's add a loess line using `geom_smooth()`."
   ]
  },
  {
   "cell_type": "code",
   "execution_count": null,
   "metadata": {
    "vscode": {
     "languageId": "r"
    }
   },
   "outputs": [],
   "source": [
    "plot + geom_smooth(method = \"loess\", se = FALSE)"
   ]
  },
  {
   "cell_type": "markdown",
   "metadata": {},
   "source": [
    "And a line of best fit!"
   ]
  },
  {
   "cell_type": "code",
   "execution_count": null,
   "metadata": {
    "vscode": {
     "languageId": "r"
    }
   },
   "outputs": [],
   "source": [
    "plot2 <- plot + geom_smooth(method = \"loess\", se = FALSE) +\n",
    "                geom_smooth(method = \"lm\", se = FALSE,color = \"grey15\", linetype=\"longdash\", linewidth = 1) \n",
    "plot2"
   ]
  },
  {
   "cell_type": "markdown",
   "metadata": {},
   "source": [
    "Good! Now let's try recreating this graph accounting for party identification of the respondent using `facet_grid`."
   ]
  },
  {
   "cell_type": "code",
   "execution_count": null,
   "metadata": {
    "vscode": {
     "languageId": "r"
    }
   },
   "outputs": [],
   "source": [
    "plot2 + facet_grid(~pid3)"
   ]
  },
  {
   "cell_type": "markdown",
   "metadata": {},
   "source": [
    "Hmm. It looks like we have some missing values on the `pid3` variable. The respondents coded `NA` refused to answer the party identification question. Let's recreate our ggplot, this time using the `filter()` function in the `data` argument to filter out missing data on `pid3`."
   ]
  },
  {
   "cell_type": "code",
   "execution_count": null,
   "metadata": {
    "vscode": {
     "languageId": "r"
    }
   },
   "outputs": [],
   "source": [
    "# is.na() function will identify whether the object is coded as missing data\n",
    "# we can use it to flag observations with missing values on a specific variable\n",
    "# ! means \"does not\" or \"is not\"\n",
    "# so !is.na(pid3) means \"is not coded NA on variable pid3\"\n",
    "\n",
    "plot3 <- ggplot(data = anes20 |> filter(!is.na(pid3)), mapping = aes(x = age, y = trans_therm)) + \n",
    "            geom_jitter(size = 2, \n",
    "                        width= 2, \n",
    "                        height = 2, \n",
    "                        fill = \"black\", \n",
    "                        alpha = .03, \n",
    "                        stroke = 0 ) +\n",
    "            geom_smooth(method = \"loess\", se = FALSE) +\n",
    "            geom_smooth(method = \"lm\", se = FALSE,color = \"grey15\", linetype=\"longdash\", linewidth = 1) +\n",
    "            labs(y = \"Thermometer Rating: Transgender People\",\n",
    "                x = \"Age\") +\n",
    "            theme_minimal() + facet_grid(~pid3)\n",
    "plot3"
   ]
  }
 ],
 "metadata": {
  "kernelspec": {
   "display_name": "R",
   "language": "R",
   "name": "ir"
  },
  "language_info": {
   "codemirror_mode": "r",
   "file_extension": ".r",
   "mimetype": "text/x-r-source",
   "name": "R",
   "pygments_lexer": "r",
   "version": "4.5.1"
  }
 },
 "nbformat": 4,
 "nbformat_minor": 4
}
