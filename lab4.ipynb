{
 "cells": [
  {
   "cell_type": "markdown",
   "metadata": {},
   "source": [
    "# Correlation and Linear Regression\n",
    "\n",
    "In this lab, we will learn how to calculate covariance and correlation using base R and how to estimate and view linear regression models using OLS. Finally, we will use our estimated regression model to generate predictions. Let's get started!\n",
    "\n",
    "For fun, we are going to evaluate Douglas Hibbs' Bread and Peace Model of U.S. presidential voting. I pulled the data together from several sources, including the Census Bureau, the FEC, Douglas Hibbs, and the Bureau of Economic Analysis. \n",
    "\n",
    "First, let's load our packages and then get the data from GitHub:\n"
   ]
  },
  {
   "cell_type": "code",
   "execution_count": null,
   "metadata": {
    "vscode": {
     "languageId": "r"
    }
   },
   "outputs": [],
   "source": [
    "# Install pacman only if needed.\n",
    "install.packages(\"pacman\")\n",
    "\n",
    "pacman::p_load(tidyverse)"
   ]
  },
  {
   "cell_type": "code",
   "execution_count": null,
   "metadata": {
    "vscode": {
     "languageId": "r"
    }
   },
   "outputs": [],
   "source": [
    "# load the data from my GitHub repository:\n",
    "hibbs <- read_csv(\"https://raw.githubusercontent.com/bowendc/510_labs/main/hibbs_1960_2024.csv\") "
   ]
  },
  {
   "cell_type": "markdown",
   "metadata": {},
   "source": [
    "First, we can create scatterplot between the change in real disposable income per capita (logged) and the incumbent party's vote share: "
   ]
  },
  {
   "cell_type": "code",
   "execution_count": null,
   "metadata": {
    "vscode": {
     "languageId": "r"
    }
   },
   "outputs": [],
   "source": [
    "ggplot(data = hibbs, aes(x = chng.lnrdipc.last, y = inc.voteshare)) +\n",
    "    geom_point()"
   ]
  },
  {
   "cell_type": "markdown",
   "metadata": {},
   "source": [
    "What do you think? Are change in real disposable logged income and presidential vote share still correlated, as Hibbs' work suggests they should be? If so, is the correlation positive or negative, weak or strong? We can evaluate your reasoning using Pearson's $r$ correlation coefficient. The code below examines just change in logged real disposable income in the election year (late in the term)."
   ]
  },
  {
   "cell_type": "code",
   "execution_count": null,
   "metadata": {
    "vscode": {
     "languageId": "r"
    }
   },
   "outputs": [],
   "source": [
    "# the cor() function will calculate the correlation coefficient, with Pearson's correlation coefficient as the default. \n",
    "\n",
    "# the pairwise.complete.obs argument will tell R to use all observations that are complete on both the X and Y variables\n",
    "cor(x = hibbs$chng.lnrdipc.last, y = hibbs$inc.voteshare, \n",
    "    use = \"pairwise.complete.obs\")\n",
    "\n"
   ]
  },
  {
   "cell_type": "markdown",
   "metadata": {},
   "source": [
    "What happens if we look at change in real disposable income per capita early in the president's term?"
   ]
  },
  {
   "cell_type": "code",
   "execution_count": null,
   "metadata": {
    "vscode": {
     "languageId": "r"
    }
   },
   "outputs": [],
   "source": [
    "cor(x = hibbs$chng.lnrdipc.early, y = hibbs$inc.voteshare, \n",
    "    use = \"pairwise.complete.obs\")"
   ]
  },
  {
   "cell_type": "markdown",
   "metadata": {},
   "source": [
    "How would you describe the difference between the relation between the economy and the presidential vote share for the incumbent in the election year verses earlier in the president's term?"
   ]
  },
  {
   "cell_type": "code",
   "execution_count": null,
   "metadata": {
    "vscode": {
     "languageId": "r"
    }
   },
   "outputs": [],
   "source": [
    "# the lm() function conducts an OLS regression analysis. \n",
    "# syntax: lm(y ~ x, data = df)\n",
    "# model results can be named and stored to call up later\n",
    "m1 <- lm(inc.voteshare ~ chng.lnrdipc.last, \n",
    "            data = hibbs, # defines which data frame to use\n",
    "            na.action = na.exclude) # excludes missing data\n",
    "\n",
    "m1 # provides quick access to regression parameters\n",
    "\n",
    "summary(m1)"
   ]
  },
  {
   "cell_type": "markdown",
   "metadata": {},
   "source": [
    "Look at the first table above. The key information for now is presented in the \"estimate\" column. The value in the \"estimate\" column for `chng.lnrdipc.last` row is the *coefficient*, or slope, of the regression line: the among the incumbent vote share should go up for every one-unit increase in change in real disposable income (logged). Notice also that R has included an intercept term even though we didn't need to specify one in the function. That value is included in the `(Intercept)` row. "
   ]
  },
  {
   "cell_type": "markdown",
   "metadata": {},
   "source": [
    "Now let's see what happens if we predict vote share from income change early in the president's term. "
   ]
  },
  {
   "cell_type": "code",
   "execution_count": null,
   "metadata": {
    "vscode": {
     "languageId": "r"
    }
   },
   "outputs": [],
   "source": [
    "m2 <- lm(inc.voteshare ~ chng.lnrdipc.early, data = hibbs, na.action = na.exclude)\n",
    "\n",
    "summary(m2)"
   ]
  },
  {
   "cell_type": "markdown",
   "metadata": {},
   "source": [
    "What if we account for both early and late changes in income while holding constant the other part of Hibbs' model: fatalities in foreign wars?"
   ]
  },
  {
   "cell_type": "code",
   "execution_count": null,
   "metadata": {
    "vscode": {
     "languageId": "r"
    }
   },
   "outputs": [],
   "source": [
    "m3 <- lm(inc.voteshare ~ chng.lnrdipc.last + chng.lnrdipc.early + fatalities, data = hibbs, na.action = na.exclude)\n",
    "\n",
    "summary(m3)"
   ]
  },
  {
   "cell_type": "markdown",
   "metadata": {},
   "source": [
    "## Prediction and residuals\n",
    "\n",
    "We can calculate $\\hat{Y}$ by plugging in values for our predictor variables (`cng.lnrdipc.last`, `chng.lnrdipc.early`, and `fatalities`). For example, let's see what the predicted incumbent vote share would be for a president with 3.43% recent income change, 1.17% early change, and no fatalities. These were Biden's values heading into the 2024 election."
   ]
  },
  {
   "cell_type": "code",
   "execution_count": null,
   "metadata": {
    "vscode": {
     "languageId": "r"
    }
   },
   "outputs": [],
   "source": [
    "# the estimated slopes from your model are stored by R and accessible:\n",
    "\n",
    "m3$coefficients[\"(Intercept)\"] + m3$coefficients[\"chng.lnrdipc.last\"]*3.43 + m3$coefficients[\"chng.lnrdipc.early\"]*(1.17) + m3$coefficients[\"fatalities\"]*0\n"
   ]
  },
  {
   "cell_type": "markdown",
   "metadata": {},
   "source": [
    "We can also generate predicted values for all existing observations in our data frame:"
   ]
  },
  {
   "cell_type": "code",
   "execution_count": null,
   "metadata": {
    "vscode": {
     "languageId": "r"
    }
   },
   "outputs": [],
   "source": [
    "postest <- hibbs |> mutate(yhat.m3 = fitted(m3))"
   ]
  },
  {
   "cell_type": "markdown",
   "metadata": {},
   "source": [
    "And if we know the predicted values and the original values of $Y$, then we can easily calculate the residuals (the difference between the actual values and the predicted values):"
   ]
  },
  {
   "cell_type": "code",
   "execution_count": null,
   "metadata": {
    "vscode": {
     "languageId": "r"
    }
   },
   "outputs": [],
   "source": [
    "postest <- postest |> mutate(resid.m3 = resid(m3))\n",
    "# of course, you could do this manually as well: \n",
    "# postest <- postest |> mutate(resid.m3 = inc.voteshare - yhat.m3)\n",
    "\n",
    "head(postest |> filter(elecyear>2007))"
   ]
  }
 ],
 "metadata": {
  "kernelspec": {
   "display_name": "R",
   "language": "R",
   "name": "ir"
  },
  "language_info": {
   "codemirror_mode": "r",
   "file_extension": ".r",
   "mimetype": "text/x-r-source",
   "name": "R",
   "pygments_lexer": "r",
   "version": "4.5.1"
  }
 },
 "nbformat": 4,
 "nbformat_minor": 2
}
