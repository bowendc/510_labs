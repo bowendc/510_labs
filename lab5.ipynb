{
 "cells": [
  {
   "cell_type": "markdown",
   "metadata": {},
   "source": [
    "# Hypothesis Testing\n",
    "\n",
    "In this lab, we will learn how to how to conduct some basic hypothesis tests in R.  \n",
    "\n",
    "First, let's load our packages. We'll be using the 2020 ANES again (with the `anesr` package), along with the script I created to recode some variables. Through out the lab, we'll be revisiting some of the associations we examined earlier in the semester to see if we have evidence of ***statistically significant*** relationships."
   ]
  },
  {
   "cell_type": "code",
   "execution_count": 9,
   "metadata": {
    "vscode": {
     "languageId": "r"
    }
   },
   "outputs": [],
   "source": [
    "# Uncomment the following code to run the notebook as an interactive nb in the cloud\n",
    "\n",
    "#install.packages(c(\"tidyverse\",\"haven\", \"knitr\", \"tidymodels\", \"modelsummary\", \"devtools\"))\n",
    "\n",
    "library(tidyverse)\n",
    "library(devtools)\n",
    "library(haven)\n",
    "library(knitr)\n",
    "library(tidymodels)\n",
    "library(modelsummary)\n",
    "\n",
    "#install_github(\"jamesmartherus/anesr\") \n",
    "library(anesr)"
   ]
  },
  {
   "cell_type": "markdown",
   "metadata": {
    "vscode": {
     "languageId": "r"
    }
   },
   "source": [
    "Now we're ready to load the data and run the R script we used in lab3."
   ]
  },
  {
   "cell_type": "code",
   "execution_count": 10,
   "metadata": {
    "vscode": {
     "languageId": "r"
    }
   },
   "outputs": [],
   "source": [
    "# load the ANES 2020 dataset\n",
    "data(\"timeseries_2020\")\n",
    "\n",
    "# store the url of the R script\n",
    "myurl <- paste0(\"https://raw.githubusercontent.com/bowendc/510_labs/main/\", \"lab3_recodes.R\")\n",
    "\n",
    "# download the R script from my GitHub\n",
    "download.file(url = myurl, \"lab3recodes.R\")\n",
    "\n",
    "# Run the R script\n",
    "source(\"lab3recodes.R\")\n",
    "\n",
    "# Create ordinal and nominal/factor variables \n",
    "anes20 <- anes20 |> mutate(welfare_ord = ordered(welfare, labels = welfare_lbl),\n",
    "                           sex_fct = factor(sex, labels = sex_lbl))"
   ]
  },
  {
   "cell_type": "markdown",
   "metadata": {},
   "source": [
    "## $\\chi ^2$ test\n",
    "\n",
    "As you know, the $\\chi ^2$ test evaluates whether the cells in a crosstab are significantly different from what we would expect to see in the crosstab if the values of the outcome were unrelated to the values of the predictor. In R, you can conduct a $\\chi ^2$ test on a table using the `chisq.test()` function that is part of the core `stats` package bundled with base R.\n",
    "\n",
    "Here, let's see if welfare attitudes are significantly related to respondent gender. \n"
   ]
  },
  {
   "cell_type": "code",
   "execution_count": null,
   "metadata": {
    "vscode": {
     "languageId": "r"
    }
   },
   "outputs": [],
   "source": [
    "ct1 <- table(anes20$welfare_ord, anes20$sex_fct) \n",
    "\n",
    "# notice I'm not using proportions from prop.table();\n",
    "# just using the raw frequencies. That's what the test\n",
    "# requires\n",
    "\n",
    "chisq.test(ct1)"
   ]
  },
  {
   "cell_type": "markdown",
   "metadata": {},
   "source": [
    "The test statistic is 50.311. You would need a Chi-squared table to evaluate the number with 4 degrees of freedom yourself. Fortunately, R provides the p-value. Is the relationship between gender and welfare attitudes statistically significant using conventional significance thresholds?"
   ]
  },
  {
   "cell_type": "markdown",
   "metadata": {},
   "source": [
    "## Difference of means \n",
    "\n",
    "To compare whether one mean is signifantly different from another, we can use the `t.test()` function. We need to take a slightly different approach than how we created a mean comparison test. For reference, here's how we did that in lab 3:"
   ]
  },
  {
   "cell_type": "code",
   "execution_count": null,
   "metadata": {
    "vscode": {
     "languageId": "r"
    }
   },
   "outputs": [],
   "source": [
    "mc <- anes20 |> filter(!is.na(sex_fct)) |>\n",
    "                group_by(sex_fct) |>\n",
    "                summarize(Democratic = mean(dem_therm, na.rm=TRUE),\n",
    "                          Republican = mean(rep_therm, na.rm=TRUE))\n",
    "mc"
   ]
  },
  {
   "cell_type": "markdown",
   "metadata": {},
   "source": [
    "But what `t.test()` wants is vectors of data, not pre-calculated means. So, let's specify the various vectors (columns of data) that we can then compare."
   ]
  },
  {
   "cell_type": "code",
   "execution_count": 13,
   "metadata": {
    "vscode": {
     "languageId": "r"
    }
   },
   "outputs": [],
   "source": [
    "wom_dem <- anes20 |> \n",
    "            filter(sex_fct==\"Women\") |> \n",
    "            select(dem_therm)\n",
    "men_dem <- anes20 |> \n",
    "            filter(sex_fct==\"Men\") |> \n",
    "            select(dem_therm)\n",
    "wom_rep <- anes20 |> \n",
    "            filter(sex_fct==\"Women\") |> \n",
    "            select(rep_therm)\n",
    "men_rep <- anes20 |> \n",
    "            filter(sex_fct==\"Men\") |> \n",
    "            select(rep_therm)"
   ]
  },
  {
   "cell_type": "markdown",
   "metadata": {},
   "source": [
    "Now that we've stored those columns of data, we feed them into `t.test()`."
   ]
  },
  {
   "cell_type": "code",
   "execution_count": null,
   "metadata": {
    "vscode": {
     "languageId": "r"
    }
   },
   "outputs": [],
   "source": [
    "# the mu argument here specifies the null \n",
    "# hypothesis that the difference is 0 \n",
    "# the default alternative hypothesis is a \n",
    "# two-sided test\n",
    "\n",
    "t.test(wom_dem, men_dem, mu = 0)\n",
    "t.test(wom_rep, men_rep, mu = 0)"
   ]
  },
  {
   "cell_type": "markdown",
   "metadata": {},
   "source": [
    "## Difference in sample proportions \n",
    "\n",
    "We can conduct difference in sample proportions tests using the `prop.test()` function. The example below wraps `prop.test` around an existing crosstab. "
   ]
  },
  {
   "cell_type": "code",
   "execution_count": null,
   "metadata": {
    "vscode": {
     "languageId": "r"
    }
   },
   "outputs": [],
   "source": [
    "\n",
    "# select just non-missing observations on the predictor\n",
    "# and outcome variables (and identify just Republicans\n",
    "# and Democratic respondents). In other words, the \n",
    "# outcome needs to be 0,1 and the predictor needs \n",
    "# to have only two categories.\n",
    "vbm <- anes20 |> select(favor.vote.mail, pid3) |>\n",
    "              filter(!is.na(pid3) & \n",
    "                      !is.na(favor.vote.mail) &\n",
    "                     pid3 != \"Independent\")\n",
    "\n",
    "# wrap  prop.test around the crosstab\n",
    "prop.test(table(vbm$pid3, vbm$favor.vote.mail))"
   ]
  },
  {
   "cell_type": "markdown",
   "metadata": {},
   "source": [
    "## Hypothesis testing with regression\n",
    "\n",
    "This is the easiest one! You already know all the functions you need to evaluate significance; just use the p-values and t-tests included in the regression output. In the regression output below, you can see the `statistic` column ($t$ score), as well as the `p.value` column.\n",
    "\n",
    "`modelsummary()` is a terrific package for displaying regression output. We will use the package in greater detail later, but it allows more flexibility in how parameter estimates are presented and the format in which they are presented. What I have presented below is probably too much information: it includes coefficient estimates, stars to note whether a coefficient is significantly different from 0 at various thresholds of $\\alpha$, the estimated standard error of each coefficient, the $t$ score, and the confidence interval around the coefficient. Most of the time, you would probably only display coefficients, standard errors, stars or $t$ scores or p-values."
   ]
  },
  {
   "cell_type": "code",
   "execution_count": null,
   "metadata": {
    "vscode": {
     "languageId": "r"
    }
   },
   "outputs": [],
   "source": [
    "m1 <- lm(welfare ~ age + income + pid7, data = anes20)\n",
    "tidy(m1)\n",
    "modelsummary(m1, estimate = \"{estimate}{stars}\",\n",
    "                 statistic = \"se = {std.error} t = {statistic} [{conf.low}, {conf.high}]\")"
   ]
  }
 ],
 "metadata": {
  "kernelspec": {
   "display_name": "R",
   "language": "R",
   "name": "ir"
  },
  "language_info": {
   "codemirror_mode": "r",
   "file_extension": ".r",
   "mimetype": "text/x-r-source",
   "name": "R",
   "pygments_lexer": "r",
   "version": "4.4.1"
  }
 },
 "nbformat": 4,
 "nbformat_minor": 2
}
