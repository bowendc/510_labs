{
 "cells": [
  {
   "cell_type": "markdown",
   "id": "c164a2a4-6882-49df-9355-a0d518860240",
   "metadata": {},
   "source": [
    "## Interactions and dummy variables in R\n",
    "\n",
    "Let's continue using our ANES data from labs 3 and 5. This time, we'll improve upon our models by incorporating interaction terms and nominal/factor data. \n",
    "\n",
    "As always, let's start by installing necessary packages and loading them.o use those commands. "
   ]
  },
  {
   "cell_type": "code",
   "execution_count": null,
   "id": "1fa4c008-67a8-4df6-bd55-cc641995e8d1",
   "metadata": {
    "vscode": {
     "languageId": "r"
    }
   },
   "outputs": [],
   "source": [
    "# Install the required packages if not already installed \n",
    "\n",
    "install.packages(c('tidyverse', 'haven', 'marginaleffects', 'devtools', 'anesr', 'tidymodels', 'modelsummary'))\n",
    "\n",
    "# let's load your packages in the R session\n",
    "\n",
    "library(tidyverse)\n",
    "library(haven)\n",
    "library(marginaleffects)\n",
    "library(devtools)\n",
    "library(anesr)\n",
    "library(tidymodels)\n",
    "library(modelsummary)\n"
   ]
  },
  {
   "cell_type": "markdown",
   "id": "bb6bc6d2-6ea2-45cf-a655-64b867f39b52",
   "metadata": {},
   "source": [
    "Now, load the data and run the recode script from github (this is the same as what we used in previous labs, so you can probably skip the download function)."
   ]
  },
  {
   "cell_type": "code",
   "execution_count": null,
   "id": "cc724d2c-3d88-4471-8f7e-4ada8075b110",
   "metadata": {
    "vscode": {
     "languageId": "r"
    }
   },
   "outputs": [],
   "source": [
    "data(\"timeseries_2020\")\n",
    "myurl <- paste0(\"https://raw.githubusercontent.com/bowendc/510_labs/main/\", \"lab3_recodes.R\")\n",
    "download.file(url = myurl, \"lab3recodes.R\")\n",
    "source(\"lab3recodes.R\")\n",
    "\n",
    "anes20 <- anes20 |> mutate(sex_fct = factor(sex, labels = sex_lbl))"
   ]
  },
  {
   "cell_type": "markdown",
   "id": "b2b8a070-d6b5-438b-879c-914c95b04421",
   "metadata": {
    "vscode": {
     "languageId": "r"
    }
   },
   "source": [
    "## Regression with nominal/factor data\n",
    "\n",
    "We can use nominal data with `lm` with the `factor()` function if R doesn't already read the variable as a factor. Let's provide two examples. In the first model below, we've already told R that `sex_fct` has a class of factor:"
   ]
  },
  {
   "cell_type": "code",
   "execution_count": null,
   "id": "fa9749f1",
   "metadata": {
    "vscode": {
     "languageId": "r"
    }
   },
   "outputs": [],
   "source": [
    "\n",
    "m1 <- lm(welfare ~ age + income + sex_fct + pid7, data = anes20)\n",
    "m2 <- lm(welfare ~ age + income + sex_fct + factor(pid7), data = anes20)\n",
    "\n",
    "# The output = \"jupyter\" argument below is used for presentation purposes in\n",
    "# the juptyer notebook. You would not use that output. Consider \"data.frame\"\n",
    "# instead. \n",
    "\n",
    "# we also set modelsummary() to present p-values as stars in the table and the \n",
    "# standard errors below the coefficients (slopes)\n",
    "\n",
    "modelsummary(list(m1,m2), estimate = \"{estimate}{stars}\", \n",
    "             statistic = \"({std.error})\", output = \"jupyter\")"
   ]
  },
  {
   "cell_type": "markdown",
   "id": "6ad660b9",
   "metadata": {},
   "source": [
    "Notice that in the models above, we get are told that the factor category is \"women\" in `sex_fct`, meaning that respondents who are women have, on average, are 0.032 points lower than men on the welfare spending scale. (This is a five-point ordinal scale from \"Increase a lot\" to \"Decrease a lot\"). Women are *more supportive* than men of increasing welfare spending, controlling for the other predictors, but that difference is not statistically distinguishable from 0.  \n",
    "\n",
    "Model 2 replaces party identification that we treat as ordinal in Model 1 with a series of dummy variables using `factor()`. Each party category dummy shows the difference between the omitted category (Strong Democrat) and the category of the dummy variable. For example, look at the coefficient for `factor(pid7)7`. That number shows the expected change in $\\hat{Y}$ as one moves from a Strong Democrat respondent to a Strong Republican respondent, holding the other factors constant. Is it statistically significant? "
   ]
  },
  {
   "cell_type": "code",
   "execution_count": null,
   "id": "d14f2d02",
   "metadata": {
    "vscode": {
     "languageId": "r"
    }
   },
   "outputs": [],
   "source": [
    "m3 <- lm(welfare ~ age + income + sex_fct*pid7, data = anes20)\n",
    "tidy(m3)\n",
    "glance(m3)"
   ]
  },
  {
   "cell_type": "code",
   "execution_count": null,
   "id": "e5068210",
   "metadata": {
    "vscode": {
     "languageId": "r"
    }
   },
   "outputs": [],
   "source": [
    "mfx <- avg_slopes(m3, variables=\"sex_fct\", by=\"pid7\")\n",
    "ggplot(data = mfx, aes(x = pid7)) +\n",
    "    geom_line(aes(y = estimate)) + \n",
    "    geom_ribbon(aes(ymin = conf.low, ymax= conf.high), color = \"grey\", alpha = .3)\n",
    "mfx"
   ]
  }
 ],
 "metadata": {
  "kernelspec": {
   "display_name": "R",
   "language": "R",
   "name": "ir"
  },
  "language_info": {
   "codemirror_mode": "r",
   "file_extension": ".r",
   "mimetype": "text/x-r-source",
   "name": "R",
   "pygments_lexer": "r",
   "version": "4.3.1"
  }
 },
 "nbformat": 4,
 "nbformat_minor": 5
}
