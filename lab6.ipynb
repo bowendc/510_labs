{
 "cells": [
  {
   "cell_type": "markdown",
   "id": "c164a2a4-6882-49df-9355-a0d518860240",
   "metadata": {},
   "source": [
    "## Interactions and dummy variables in R\n",
    "\n",
    "Let's continue using our ANES data from labs 3 and 5. This time, we'll improve upon our models by incorporating interaction terms and nominal/factor data. \n",
    "\n",
    "As always, let's start by installing necessary packages and loading them.o use those commands. "
   ]
  },
  {
   "cell_type": "code",
   "execution_count": null,
   "id": "1fa4c008-67a8-4df6-bd55-cc641995e8d1",
   "metadata": {
    "vscode": {
     "languageId": "r"
    }
   },
   "outputs": [],
   "source": [
    "# Install the required packages if not already installed \n",
    "\n",
    " install.packages(c('tidyverse', 'haven', 'marginaleffects', 'devtools', 'anesr', 'tidymodels', 'modelsummary'))\n",
    "\n",
    "# let's load your packages in the R session\n",
    "\n",
    "library(tidyverse)\n",
    "library(haven)\n",
    "library(marginaleffects)\n",
    "library(devtools)\n",
    "library(anesr)\n",
    "library(tidymodels)\n",
    "library(modelsummary)\n"
   ]
  },
  {
   "cell_type": "markdown",
   "id": "bb6bc6d2-6ea2-45cf-a655-64b867f39b52",
   "metadata": {},
   "source": [
    "Now, load the data and run the recode script from github (this is the same as what we used in previous labs, so you can probably skip the download function)."
   ]
  },
  {
   "cell_type": "code",
   "execution_count": null,
   "id": "cc724d2c-3d88-4471-8f7e-4ada8075b110",
   "metadata": {
    "vscode": {
     "languageId": "r"
    }
   },
   "outputs": [],
   "source": [
    "\n",
    "# load the dataset from the anesr package\n",
    "data(\"timeseries_2020\")\n",
    "\n",
    "# save the url to the R script for recoding and cleaning the data\n",
    "myurl <- paste0(\"https://raw.githubusercontent.com/bowendc/510_labs/main/\", \"lab3_recodes.R\")\n",
    "\n",
    "# download the R script, call the file \"lab3recodes.R\"\n",
    "download.file(url = myurl, \"lab3recodes.R\")\n",
    "\n",
    "# run the downloaded R script\n",
    "source(\"lab3recodes.R\")\n",
    "\n",
    "# recode the variable `sex`\n",
    "anes20 <- anes20 |> mutate(sex_fct = factor(sex, labels = sex_lbl))"
   ]
  },
  {
   "cell_type": "markdown",
   "id": "b2b8a070-d6b5-438b-879c-914c95b04421",
   "metadata": {
    "vscode": {
     "languageId": "r"
    }
   },
   "source": [
    "### Regression with nominal/factor data\n",
    "\n",
    "We can use nominal data with `lm` with the `factor()` function if R doesn't already read the variable as a factor. Let's provide two examples. In the first model below, we've already told R that `sex_fct` has a class of factor:"
   ]
  },
  {
   "cell_type": "code",
   "execution_count": null,
   "id": "fa9749f1",
   "metadata": {
    "vscode": {
     "languageId": "r"
    }
   },
   "outputs": [],
   "source": [
    "\n",
    "m1 <- lm(welfare ~ age + income + sex_fct + pid7, data = anes20)\n",
    "m2 <- lm(welfare ~ age + income + sex_fct + factor(pid7), data = anes20)\n",
    "\n",
    "# The output = \"jupyter\" argument below is used for presentation purposes in\n",
    "# the juptyer notebook. You would not use that output. Consider \"data.frame\"\n",
    "# instead, just let RStudio display the table in the default html in the viewer\n",
    "\n",
    "# we also set modelsummary() to present p-values as stars in the table and the \n",
    "# standard errors below the coefficients (slopes)\n",
    "\n",
    "modelsummary(list(m1,m2), estimate = \"{estimate}{stars}\", \n",
    "             statistic = \"({std.error})\", output = \"jupyter\")"
   ]
  },
  {
   "cell_type": "markdown",
   "id": "6ad660b9",
   "metadata": {},
   "source": [
    "Notice that in the models above, we get are told that the factor category is \"women\" in `sex_fct`, meaning that respondents who are women have, on average, are 0.032 points lower than men on the welfare spending scale. (This is a five-point ordinal scale from \"Increase a lot\" to \"Decrease a lot\"). Women are *more supportive* than men of increasing welfare spending, controlling for the other predictors, but that difference is not statistically distinguishable from 0.  \n",
    "\n",
    "Model 2 replaces party identification that we treat as ordinal in Model 1 with a series of dummy variables using `factor()`. Each party category dummy shows the difference between the omitted category (Strong Democrat) and the category of the dummy variable. For example, look at the coefficient for `factor(pid7)7`. That number shows the expected change in $\\hat{Y}$ as one moves from a Strong Democrat respondent to a Strong Republican respondent, holding the other factors constant. Is it statistically significant? "
   ]
  },
  {
   "cell_type": "markdown",
   "id": "bfa064f1",
   "metadata": {},
   "source": [
    "### Regression with interaction terms \n",
    "\n",
    "Now, let's let the effect of sex vary by partisanship. To do this, we need to fit a model with an interaction term. Mathematically, we are just including a new variable that equals the product of `sex_fct` and `pid7`. The coefficient on this term will show how the coefficients on the constituent terms ($\\hat{\\beta_{sex_fct}}$ and $$\\hat{\\beta_{pid7}}$) *change* as the product of the two variables moves up or down.\n",
    "\n",
    "First, we fit the model and examine the estimates."
   ]
  },
  {
   "cell_type": "code",
   "execution_count": null,
   "id": "d14f2d02",
   "metadata": {
    "vscode": {
     "languageId": "r"
    }
   },
   "outputs": [],
   "source": [
    "m3 <- lm(welfare ~ age + income + sex_fct*pid7, data = anes20)\n",
    "tidy(m3)\n",
    "glance(m3)"
   ]
  },
  {
   "cell_type": "markdown",
   "id": "d42453f9",
   "metadata": {},
   "source": [
    "Interpreting regression models is difficult! What can we say from this output? \n",
    "\n",
    "- `sex_fct`: Women are .10 points higher than men on `welfare`, controlling for the other predictors, *when party ID is 0*. This relationship is statistically significant (p-value < .05). But, `pid7` has a range of 1 to 7, never 0.\n",
    "- `pid7`: each one-unit movement up the party scale from Strong Dem (1) toward Strong Republican (7), the welfare spending scale goes up (more strongly say \"decrease a lot\") by .287 points *among men respondents*. Men are those coded 0 on `sex_fct`. Relationship for men is statistically signifcant at pretty much any threshold. \n",
    "-  These relationships get more negative when we activate the interaction term. The difference between women and men on predicted welfare attitudes drops by .033 points for each unit increase in `pid7` (because `sex_fctWomen` is a dummy variable, the interaction term simply becomes 1*`pid7`). And each unit increase in `pid7` for women is .033 points smaller than it was for men. \n",
    "\n",
    "It helps to graph the **marginal effects* of a key predictor variable of interest. These marginal effects show the estimated relationship between the predictor and $\\hat{Y}$ across the values of the other predictor variable interacted with it. Let's plot the marginal effect of `sex_fctWomen` by `pid7` using the `marginaleffects` package."
   ]
  },
  {
   "cell_type": "code",
   "execution_count": null,
   "id": "e5068210",
   "metadata": {
    "vscode": {
     "languageId": "r"
    }
   },
   "outputs": [],
   "source": [
    "# first, calculate the marginal effects using avg_slopes()\n",
    "# we want the effect of sex_fct\n",
    "# and pid7 will be on the x axis\n",
    "\n",
    "mfx <- avg_slopes(m3, variables=\"sex_fct\", by=\"pid7\")\n",
    "\n",
    "# check the stored data frame\n",
    "mfx\n",
    "\n",
    "# now plot the data\n",
    "# geom_ribbon plots the confidence interval as a shaded region\n",
    "ggplot(data = mfx, aes(x = pid7)) +\n",
    "    geom_line(aes(y = estimate)) + \n",
    "    geom_ribbon(aes(ymin = conf.low, ymax= conf.high), color = \"grey\", alpha = .3) + \n",
    "    theme_minimal()"
   ]
  },
  {
   "cell_type": "markdown",
   "id": "75f054d2",
   "metadata": {},
   "source": [
    "Using the `mfx` table, you can see that the marginal effect of `sex_fct` is statistically significant (p-values < .05) and negative when `pid7` is coded as a 5, 6, or 7 (i.e., Republicans). For Republican respondents, sex is a significant predictor of welfare attitudes with women showing less appetite for decreasing welfare spending then men do."
   ]
  }
 ],
 "metadata": {
  "kernelspec": {
   "display_name": "R",
   "language": "R",
   "name": "ir"
  },
  "language_info": {
   "codemirror_mode": "r",
   "file_extension": ".r",
   "mimetype": "text/x-r-source",
   "name": "R",
   "pygments_lexer": "r",
   "version": "4.3.1"
  }
 },
 "nbformat": 4,
 "nbformat_minor": 5
}
